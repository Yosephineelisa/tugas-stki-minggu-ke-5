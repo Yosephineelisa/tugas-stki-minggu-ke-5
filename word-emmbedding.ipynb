{
 "cells": [
  {
   "cell_type": "code",
   "execution_count": null,
   "metadata": {},
   "outputs": [],
   "source": [
    "from gensim.models import Word2Vec\n",
    "import ntlk\n",
    "\n",
    "ntlk.download('punkt')\n",
    "text = \"Teks yang telah diurai dan dibersihkan\"\n",
    "\n",
    "setences = ntlk.sent_tokenize(text)\n",
    "\n",
    "word_tokens = [ntlk.word_tokenize(setences) for setences in setences]\n",
    "\n",
    "model = Word2Vec(word_tokens, vector_size=100, window=5, min_count=1, sg=0)\n",
    "\n",
    "model.train(word_tokens, total_examples=model.corpus_count, epochs=10)"
   ]
  }
 ],
 "metadata": {
  "language_info": {
   "name": "python"
  }
 },
 "nbformat": 4,
 "nbformat_minor": 2
}
